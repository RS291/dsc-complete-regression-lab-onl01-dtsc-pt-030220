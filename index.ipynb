{
 "cells": [
  {
   "cell_type": "markdown",
   "metadata": {},
   "source": [
    "# Complete Regression - Lab\n",
    "\n",
    "## Introduction\n",
    "By now, you have created all the necessary functions to calculate the slope, intercept, best-fit line, prediction, and visualizations. In this lab you will put them all together to run a regression experiment and calculate the model loss. \n",
    "\n",
    "## Objectives\n",
    "\n",
    "You will be able to:\n",
    "\n",
    "* Perform a linear regression using self-constructed functions\n",
    "* Calculate the coefficient of determination using self-constructed functions\n",
    "* Use the coefficient of determination to determine model performance\n",
    "\n",
    "## The formulas\n",
    "\n",
    "**Slope**: \n",
    "$\\hat m = \\dfrac{\\overline{x}*\\overline{y}-\\overline{xy}}{(\\overline{x})^2-\\overline{x^2}}$\n",
    "\n",
    "\n",
    "**Intercept**: $ \\hat c = \\bar{y} - \\hat m\\bar{x}$\n",
    "\n",
    "**Prediction**: $\\hat{y} = \\hat mx + \\hat c$\n",
    "\n",
    "**R-Squared**: \n",
    "$ R^2 = 1- \\dfrac{SS_{RES}}{SS_{TOT}} = 1 - \\dfrac{\\sum_i(y_i - \\hat y_i)^2}{\\sum_i(y_i - \\overline y_i)^2} $\n",
    "\n",
    "\n",
    "Use the Python functions created earlier to implement these formulas to run a regression analysis using x and y as input variables. "
   ]
  },
  {
   "cell_type": "code",
   "execution_count": 1,
   "metadata": {},
   "outputs": [
    {
     "name": "stdout",
     "output_type": "stream",
     "text": [
      "Basic Regression Diagnostics\n",
      "----------------------------\n",
      "Slope: 0.56\n",
      "Y-Intercept: 6.33\n",
      "R-Squared: 0.97\n",
      "----------------------------\n",
      "Model: Y = 0.56 * X + 6.33\n"
     ]
    },
    {
     "data": {
      "text/plain": [
       "<Figure size 640x480 with 1 Axes>"
      ]
     },
     "metadata": {},
     "output_type": "display_data"
    }
   ],
   "source": [
    "# Combine all the functions created so far to run a complete regression experiment. \n",
    "# Produce an output similar to the one shown below. \n",
    "\n",
    "# import necessary stuffs\n",
    "import numpy as np\n",
    "import matplotlib.pyplot as plt\n",
    "from matplotlib import style\n",
    "style.use('ggplot')\n",
    "\n",
    "# copy over the functions from previous labs\n",
    "def calc_slope(xs, ys):\n",
    "\n",
    "    m = (((np.mean(xs)*np.mean(ys)) - np.mean(xs*ys)) /\n",
    "         ((np.mean(xs)**2) - np.mean(xs*xs)))\n",
    "    \n",
    "    return m\n",
    "\n",
    "def best_fit(xs, ys):\n",
    "\n",
    "    m = calc_slope(xs, ys)\n",
    "    c = np.mean(ys) - m*np.mean(xs)\n",
    "    \n",
    "    return m, c\n",
    "\n",
    "def reg_line (m, c, X):\n",
    "    \n",
    "    return [(m*x)+c for x in X]\n",
    "\n",
    "def sum_sq_err(ys_real, ys_predicted):\n",
    "\n",
    "    sse =  sum((ys_predicted - ys_real) * (ys_predicted - ys_real))\n",
    "    \n",
    "    return sse\n",
    "\n",
    "def r_squared(ys_real, ys_predicted):\n",
    "    \n",
    "    # Calculate Y_mean , squared error for regression and mean line , and calculate r-squared\n",
    "    y_mean = [np.mean(ys_real) for y in ys_real]\n",
    "\n",
    "    sq_err_reg = sum_sq_err(ys_real, ys_predicted)\n",
    "    sq_err_y_mean = sum_sq_err(ys_real, y_mean)\n",
    "    \n",
    "    # Calculate r-squared \n",
    "    r_sq =  1 - (sq_err_reg/sq_err_y_mean)\n",
    "    \n",
    "    return r_sq\n",
    "\n",
    "def plot_reg(X, Y, Y_pred):\n",
    "    plt.scatter(X, Y, color='blue', label='data')\n",
    "    plt.plot(X, Y_pred, label='regression line')\n",
    "    plt.legend()\n",
    "    plt.show()\n",
    "    return None\n",
    "\n",
    "\n",
    "X = np.array([1, 2, 3, 4, 5, 6, 7, 8, 9, 10], dtype=np.float64)\n",
    "Y = np.array([7, 7, 8, 9, 9, 10, 10, 11, 11, 12], dtype=np.float64)\n",
    "\n",
    "m, c = best_fit(X, Y)\n",
    "Y_pred = reg_line(m, c, X)\n",
    "r_squared = r_squared(Y, Y_pred)\n",
    "\n",
    "print ('Basic Regression Diagnostics')\n",
    "print ('----------------------------')\n",
    "print ('Slope:', round(m, 2))\n",
    "print ('Y-Intercept:', round(c, 2))\n",
    "print ('R-Squared:', round(r_squared, 2))\n",
    "print ('----------------------------')\n",
    "print ('Model: Y =',round(m, 2),'* X +', round(c, 2))\n",
    "\n",
    "plot_reg(X, Y, Y_pred)\n",
    "       \n",
    "# Basic Regression Diagnostics\n",
    "# ----------------------------\n",
    "# Slope: 0.56\n",
    "# Y-Intercept: 6.33\n",
    "# R-Squared: 0.97\n",
    "# ----------------------------\n",
    "# Model: Y = 0.56 * X + 6.33"
   ]
  },
  {
   "cell_type": "code",
   "execution_count": 2,
   "metadata": {
    "scrolled": true
   },
   "outputs": [],
   "source": [
    "# Basic Regression Diagnostics\n",
    "# ----------------------------\n",
    "# Slope: 0.56\n",
    "# Y-Intercept: 6.33\n",
    "# R-Squared: 0.97\n",
    "# ----------------------------\n",
    "# Model: Y = 0.56 * X + 6.33"
   ]
  },
  {
   "cell_type": "markdown",
   "metadata": {},
   "source": [
    "## Make Predictions\n",
    "\n",
    "Predict and plot the value of y using regression line above for a new value of $x = 4.5$."
   ]
  },
  {
   "cell_type": "code",
   "execution_count": 3,
   "metadata": {},
   "outputs": [
    {
     "data": {
      "image/png": "[encoded data removed]",
      "text/plain": [
       "<Figure size 432x288 with 1 Axes>"
      ]
     },
     "metadata": {
      "needs_background": "light"
     },
     "output_type": "display_data"
    }
   ],
   "source": [
    "# Make prediction for x = 4.5 and visualize on the scatter plot\n",
    "x_new = 4.5\n",
    "y_new = (m*x_new)+c\n",
    "y_new\n",
    "\n",
    "plt.scatter(X, Y, color='#000F72', label='data')\n",
    "plt.plot(X, Y_pred, color='#880000', label='regression line')\n",
    "plt.scatter(x_new, y_new, color='r', label='Prediction: '+ str(np.round(y_new, 1)))\n",
    "plt.legend(loc=4)\n",
    "plt.show()"
   ]
  },
  {
   "cell_type": "markdown",
   "metadata": {},
   "source": [
    "## Level up - Optional \n",
    "Load the \"`heightweight.csv`\" dataset. Use the height as an independent and weight as a dependent variable and draw a regression line to data using your code above. Calculate your R-Squared value for the model and try to predict new values of y. \n",
    "\n",
    "## Summary\n",
    "\n",
    "In this lab, we ran a complete simple regression analysis experiment using functions created so far. Next up, you'll learn how you can use Python's built-in modules to perform similar analyses with a much higher level of sophistication. "
   ]
  }
 ],
 "metadata": {
  "kernelspec": {
   "display_name": "Python 3",
   "language": "python",
   "name": "python3"
  },
  "language_info": {
   "codemirror_mode": {
    "name": "ipython",
    "version": 3
   },
   "file_extension": ".py",
   "mimetype": "text/x-python",
   "name": "python",
   "nbconvert_exporter": "python",
   "pygments_lexer": "ipython3",
   "version": "3.7.4"
  }
 },
 "nbformat": 4,
 "nbformat_minor": 2
}
